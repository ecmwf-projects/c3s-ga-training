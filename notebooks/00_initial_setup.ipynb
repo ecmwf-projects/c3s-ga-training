{
 "cells": [
  {
   "cell_type": "markdown",
   "metadata": {},
   "source": [
    "# Welcome to the **earthkit** hands-on training session!"
   ]
  },
  {
   "cell_type": "markdown",
   "metadata": {},
   "source": [
    "In today's session we will learn about the open-source **earthkit** project, led by ECMWF.\n",
    "\n",
    "The training will be delivered in the form of **Jupyter notebooks** - like this one!\n",
    "\n",
    "To get started, you will need to clone the GitHub repository containing these notebooks. You can find the respository at the below address:"
   ]
  },
  {
   "cell_type": "markdown",
   "metadata": {},
   "source": [
    "# `github.com/ecmwf-projects/c3s-ga-training`"
   ]
  },
  {
   "cell_type": "markdown",
   "metadata": {},
   "source": [
    "The details of installation are contained in the repository at the above link, so please go there now and follow the instructions.\n",
    "\n",
    "**Don't be shy - ask for help if you need it!**"
   ]
  }
 ],
 "metadata": {
  "kernelspec": {
   "display_name": "Python 3 (ipykernel)",
   "language": "python",
   "name": "python3"
  },
  "language_info": {
   "codemirror_mode": {
    "name": "ipython",
    "version": 3
   },
   "file_extension": ".py",
   "mimetype": "text/x-python",
   "name": "python",
   "nbconvert_exporter": "python",
   "pygments_lexer": "ipython3",
   "version": "3.10.12"
  },
  "vscode": {
   "interpreter": {
    "hash": "593390462abea4e29c82c509329de831a3d1cca38a2935305b4e9fea0eed3a61"
   }
  }
 },
 "nbformat": 4,
 "nbformat_minor": 4
}
