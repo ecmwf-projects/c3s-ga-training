{
 "cells": [
  {
   "cell_type": "code",
   "execution_count": null,
   "metadata": {},
   "outputs": [],
   "source": [
    "# Install EK packages\n",
    "!conda install -y -c conda-forge earthkit-data  \n",
    "!pip install -q earthkit-maps\n",
    "# Replace with PyPi when released\n",
    "!pip install earthkit-climate@git+https://github.com/ecmwf/earthkit-climate\n",
    "\n",
    "# Addittional dependancies:\n",
    "!conda install -c conda-forge cf-units cartopy "
   ]
  },
  {
   "cell_type": "code",
   "execution_count": 1,
   "metadata": {},
   "outputs": [],
   "source": [
    "import os\n",
    "from earthkit import data as ek_data\n",
    "from earthkit import climate as ek_climate\n",
    "from earthkit import maps as ek_maps"
   ]
  },
  {
   "cell_type": "code",
   "execution_count": 2,
   "metadata": {},
   "outputs": [],
   "source": [
    "# Create directories \n",
    "if not os.path.isdir('test_data'): os.mkdir('test_data')\n",
    " \n",
    "# set constants\n",
    "YEARS = [yr for yr in range(2015,2018)]"
   ]
  },
  {
   "cell_type": "code",
   "execution_count": 3,
   "metadata": {},
   "outputs": [
    {
     "name": "stderr",
     "output_type": "stream",
     "text": [
      "2023-08-24 16:47:08,006 INFO Welcome to the CDS\n",
      "2023-08-24 16:47:08,007 INFO Sending request to https://cds.climate.copernicus.eu/api/v2/resources/reanalysis-era5-single-levels\n",
      "2023-08-24 16:47:08,125 INFO Request is queued\n",
      "2023-08-24 16:47:09,168 INFO Request is running\n",
      "2023-08-24 16:51:26,233 INFO Request is completed\n",
      "2023-08-24 16:51:26,234 INFO Downloading https://download-0016.copernicus-climate.eu/cache-compute-0016/cache/data7/adaptor.mars.internal-1692892028.568449-15832-5-9bf85dc6-5a61-49cb-86ee-805358e1388d.grib to /var/folders/l2/529q7bzs665bnrn7_wjx1nsr0000gn/T/earthkit-data-edwardcomyn-platt/cds-retriever-0a02c8c2f51ff372a0e89f39cee7fc8be756a2ae2de1738978a069f40e6e4098.cache.tmp (473.1M)\n",
      "2023-08-24 16:52:38,213 INFO Download rate 6.6M/s  \n"
     ]
    }
   ],
   "source": [
    "cds_dataset_name = 'reanalysis-era5-single-levels'\n",
    "cds_request_base = {\n",
    "    'product_type': 'reanalysis',\n",
    "    'variable': '2m_temperature',\n",
    "    'year': YEARS,\n",
    "    'month': [\n",
    "        '01', '02', '03',\n",
    "        '04', '05', '06',\n",
    "        '07', '08', '09',\n",
    "        '10', '11', '12',\n",
    "    ],\n",
    "    'day': [\n",
    "        '01', '02', '03',\n",
    "        '04', '05', '06',\n",
    "        '07', '08', '09',\n",
    "        '10', '11', '12',\n",
    "        '13', '14', '15',\n",
    "        '16', '17', '18',\n",
    "        '19', '20', '21',\n",
    "        '22', '23', '24',\n",
    "        '25', '26', '27',\n",
    "        '28', '29', '30',\n",
    "        '31',\n",
    "    ],\n",
    "    'time': [\n",
    "        '00:00', '06:00', '12:00', '18:00',\n",
    "    ],\n",
    "    'area': [\n",
    "        80, -10, 30, 60,\n",
    "    ],\n",
    "}\n",
    "era5_data = ek_data.from_source(\"cds\", cds_dataset_name, cds_request_base)\n"
   ]
  },
  {
   "cell_type": "code",
   "execution_count": 4,
   "metadata": {},
   "outputs": [
    {
     "ename": "ValueError",
     "evalue": "Invalid frequency 'month' - see xarray documentation for a full list of valid frequencies.",
     "output_type": "error",
     "traceback": [
      "\u001b[0;31m---------------------------------------------------------------------------\u001b[0m",
      "\u001b[0;31mAttributeError\u001b[0m                            Traceback (most recent call last)",
      "File \u001b[0;32m~/Work/Git_Repositories/EARTHKIT/earthkit-climate/earthkit/climate/aggregate.py:166\u001b[0m, in \u001b[0;36m_groupby_time\u001b[0;34m(dataarray, frequency, bin_widths, squeeze, time_dim)\u001b[0m\n\u001b[1;32m    165\u001b[0m \u001b[39mtry\u001b[39;00m:\n\u001b[0;32m--> 166\u001b[0m     grouped_data \u001b[39m=\u001b[39m dataarray\u001b[39m.\u001b[39;49mgroupby(\u001b[39mf\u001b[39m\u001b[39m\"\u001b[39m\u001b[39m{\u001b[39;00mtime_dim\u001b[39m}\u001b[39;00m\u001b[39m.\u001b[39m\u001b[39m{\u001b[39;00mfrequency\u001b[39m}\u001b[39;00m\u001b[39m\"\u001b[39m, squeeze\u001b[39m=\u001b[39msqueeze)\n\u001b[1;32m    167\u001b[0m \u001b[39mexcept\u001b[39;00m \u001b[39mAttributeError\u001b[39;00m:\n",
      "\u001b[0;31mAttributeError\u001b[0m: 'GRIBReader' object has no attribute 'groupby'",
      "\nDuring handling of the above exception, another exception occurred:\n",
      "\u001b[0;31mValueError\u001b[0m                                Traceback (most recent call last)",
      "Cell \u001b[0;32mIn[4], line 1\u001b[0m\n\u001b[0;32m----> 1\u001b[0m climatology \u001b[39m=\u001b[39m ek_climate\u001b[39m.\u001b[39;49mclimatology\u001b[39m.\u001b[39;49mmean(era5_data, frequency\u001b[39m=\u001b[39;49m\u001b[39m'\u001b[39;49m\u001b[39mmonth\u001b[39;49m\u001b[39m'\u001b[39;49m)\n",
      "File \u001b[0;32m~/Work/Git_Repositories/EARTHKIT/earthkit-climate/earthkit/climate/climatology.py:31\u001b[0m, in \u001b[0;36mmean\u001b[0;34m(dataarray, frequency, bin_widths, time_dim)\u001b[0m\n\u001b[1;32m      6\u001b[0m \u001b[39mdef\u001b[39;00m \u001b[39mmean\u001b[39m(\n\u001b[1;32m      7\u001b[0m     dataarray: xr\u001b[39m.\u001b[39mDataArray,\n\u001b[1;32m      8\u001b[0m     frequency: \u001b[39mstr\u001b[39m \u001b[39m=\u001b[39m \u001b[39mNone\u001b[39;00m,\n\u001b[1;32m      9\u001b[0m     bin_widths: \u001b[39mint\u001b[39m \u001b[39m=\u001b[39m \u001b[39mNone\u001b[39;00m,\n\u001b[1;32m     10\u001b[0m     time_dim: \u001b[39mstr\u001b[39m \u001b[39m=\u001b[39m \u001b[39m\"\u001b[39m\u001b[39mtime\u001b[39m\u001b[39m\"\u001b[39m,\n\u001b[1;32m     11\u001b[0m ) \u001b[39m-\u001b[39m\u001b[39m>\u001b[39m xr\u001b[39m.\u001b[39mDataArray:\n\u001b[1;32m     12\u001b[0m \u001b[39m    \u001b[39m\u001b[39m\"\"\"\u001b[39;00m\n\u001b[1;32m     13\u001b[0m \u001b[39m    Calculate the climatological mean.\u001b[39;00m\n\u001b[1;32m     14\u001b[0m \n\u001b[0;32m   (...)\u001b[0m\n\u001b[1;32m     29\u001b[0m \u001b[39m    xr.DataArray\u001b[39;00m\n\u001b[1;32m     30\u001b[0m \u001b[39m    \"\"\"\u001b[39;00m\n\u001b[0;32m---> 31\u001b[0m     grouped_data \u001b[39m=\u001b[39m aggregate\u001b[39m.\u001b[39;49m_groupby_time(\n\u001b[1;32m     32\u001b[0m         dataarray, frequency\u001b[39m=\u001b[39;49mfrequency, bin_widths\u001b[39m=\u001b[39;49mbin_widths, time_dim\u001b[39m=\u001b[39;49mtime_dim\n\u001b[1;32m     33\u001b[0m     )\n\u001b[1;32m     34\u001b[0m     \u001b[39mreturn\u001b[39;00m aggregate\u001b[39m.\u001b[39mreduce(grouped_data, dim\u001b[39m=\u001b[39mtime_dim)\n",
      "File \u001b[0;32m~/Work/Git_Repositories/EARTHKIT/earthkit-climate/earthkit/climate/aggregate.py:168\u001b[0m, in \u001b[0;36m_groupby_time\u001b[0;34m(dataarray, frequency, bin_widths, squeeze, time_dim)\u001b[0m\n\u001b[1;32m    166\u001b[0m     grouped_data \u001b[39m=\u001b[39m dataarray\u001b[39m.\u001b[39mgroupby(\u001b[39mf\u001b[39m\u001b[39m\"\u001b[39m\u001b[39m{\u001b[39;00mtime_dim\u001b[39m}\u001b[39;00m\u001b[39m.\u001b[39m\u001b[39m{\u001b[39;00mfrequency\u001b[39m}\u001b[39;00m\u001b[39m\"\u001b[39m, squeeze\u001b[39m=\u001b[39msqueeze)\n\u001b[1;32m    167\u001b[0m \u001b[39mexcept\u001b[39;00m \u001b[39mAttributeError\u001b[39;00m:\n\u001b[0;32m--> 168\u001b[0m     \u001b[39mraise\u001b[39;00m \u001b[39mValueError\u001b[39;00m(\n\u001b[1;32m    169\u001b[0m         \u001b[39mf\u001b[39m\u001b[39m\"\u001b[39m\u001b[39mInvalid frequency \u001b[39m\u001b[39m'\u001b[39m\u001b[39m{\u001b[39;00mfrequency\u001b[39m}\u001b[39;00m\u001b[39m'\u001b[39m\u001b[39m - see xarray documentation for \u001b[39m\u001b[39m\"\u001b[39m\n\u001b[1;32m    170\u001b[0m         \u001b[39mf\u001b[39m\u001b[39m\"\u001b[39m\u001b[39ma full list of valid frequencies.\u001b[39m\u001b[39m\"\u001b[39m\n\u001b[1;32m    171\u001b[0m     )\n\u001b[1;32m    172\u001b[0m \u001b[39mif\u001b[39;00m frequency \u001b[39min\u001b[39;00m [\u001b[39m\"\u001b[39m\u001b[39mseason\u001b[39m\u001b[39m\"\u001b[39m]:\n\u001b[1;32m    173\u001b[0m     grouped_data \u001b[39m=\u001b[39m grouped_data\u001b[39m.\u001b[39mreindex(season\u001b[39m=\u001b[39m[\u001b[39m\"\u001b[39m\u001b[39mDJF\u001b[39m\u001b[39m\"\u001b[39m, \u001b[39m\"\u001b[39m\u001b[39mMAM\u001b[39m\u001b[39m\"\u001b[39m, \u001b[39m\"\u001b[39m\u001b[39mJJA\u001b[39m\u001b[39m\"\u001b[39m, \u001b[39m\"\u001b[39m\u001b[39mSON\u001b[39m\u001b[39m\"\u001b[39m])\n",
      "\u001b[0;31mValueError\u001b[0m: Invalid frequency 'month' - see xarray documentation for a full list of valid frequencies."
     ]
    }
   ],
   "source": [
    "climatology = ek_climate.climatology.mean(era5_data, frequency='month')"
   ]
  },
  {
   "cell_type": "code",
   "execution_count": null,
   "metadata": {},
   "outputs": [],
   "source": []
  }
 ],
 "metadata": {
  "kernelspec": {
   "display_name": "earthkit",
   "language": "python",
   "name": "python3"
  },
  "language_info": {
   "codemirror_mode": {
    "name": "ipython",
    "version": 3
   },
   "file_extension": ".py",
   "mimetype": "text/x-python",
   "name": "python",
   "nbconvert_exporter": "python",
   "pygments_lexer": "ipython3",
   "version": "3.10.12"
  },
  "orig_nbformat": 4
 },
 "nbformat": 4,
 "nbformat_minor": 2
}
